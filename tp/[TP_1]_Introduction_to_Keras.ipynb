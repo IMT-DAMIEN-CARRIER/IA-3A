{
  "nbformat": 4,
  "nbformat_minor": 0,
  "metadata": {
    "colab": {
      "name": "[TP 1] Introduction to Keras.ipynb",
      "provenance": [],
      "collapsed_sections": []
    },
    "kernelspec": {
      "display_name": "Python 3",
      "name": "python3"
    },
    "language_info": {
      "name": "python"
    }
  },
  "cells": [
    {
      "cell_type": "markdown",
      "metadata": {
        "id": "GHByHhZxjQy3"
      },
      "source": [
        "<div style=\"text-align:right\"> Practical session 1 <br/> Sébastien Harispe\n",
        "<h1><center>Keras Introduction: <br/> Practical introduction to Artificial Neural Networks <br/> IMT Mines Alès</center></h1>\n",
        "\n",
        "<center>\n",
        "\n",
        "![picture](https://upload.wikimedia.org/wikipedia/commons/thumb/a/ae/Keras_logo.svg/200px-Keras_logo.svg.png)\n",
        "\n",
        "</center>\n"
      ]
    },
    {
      "cell_type": "markdown",
      "metadata": {
        "id": "AiOrjEfFjjvt"
      },
      "source": [
        "## Overview\n",
        "\n",
        "In this short tutorial we will see basics of [Keras](https://keras.io/) including: \n",
        "* Generalities about the philosophy and basic constructs of the library.\n",
        "* How to create, train, evaluate, save and use a model.\n",
        "\n",
        "The main sources of information used to prepare this tutorial session are: \n",
        "* https://keras.io\n",
        "* https://www.tensorflow.org\n",
        "* https://www.tensorflow.org/tutorials/keras\n",
        "\n",
        "We will further use ANN to refer to an Artificial Neural Network."
      ]
    },
    {
      "cell_type": "markdown",
      "metadata": {
        "id": "Fi2t6ca8j_8S"
      },
      "source": [
        "\n",
        "### Keras\n",
        "\n",
        "**Keras** is a high-level API that can be used to easily build and train ANN such as those used in deep learning models.  \n",
        "It is used for fast prototyping, quick research testing, and production, with three key advantages:\n",
        "* *User friendly* It has a simple, consistent interface optimized for common use cases, and provides clear and actionable feedback for user errors.\n",
        "* *Modular and composable* Keras models are made by connecting configurable building blocks together, with few restrictions.\n",
        "* *Easy to extend* Write custom building blocks to express new ideas for research. Create new layers, loss functions, and develop state-of-the-art models.\n",
        "\n",
        "Keras has originally been developed by François Chollet (Frenchy \\o/) now a Google engineer. \n",
        "\n",
        "Keras is capable of running on top of several plateforms dedicated to neural networks and machine learning. In this practical session we will use the TensorFlow backend. Late developements have made Keras tightly linked to TensorFlow.\n",
        "\n",
        "**TensorFlow** is a free and open-source software library for dataflow and differentiable programming across a range of tasks. It is a symbolic math library, and is also used for machine learning applications such as neural networks. It is used for both research and production at Google. ‍(‍[source](https://en.wikipedia.org/wiki/TensorFlow))‍.\n",
        "\n",
        "<center>\n",
        "\n",
        "![picture](https://upload.wikimedia.org/wikipedia/commons/thumb/1/11/TensorFlowLogo.svg/200px-TensorFlowLogo.svg.png)\n",
        "\n",
        "</center>\n",
        "\n",
        "TensorFlow's implementation of the Keras API specification is exposed in the `tf.keras` module. This is a high-level API to build and train models that makes TensorFlow easier to use without sacrificing flexibility and performance.\n",
        "The main competitor of TensorFlow is [PyTorch](https://pytorch.org/) (which do not support Keras API).\n",
        "\n"
      ]
    },
    {
      "cell_type": "markdown",
      "metadata": {
        "id": "GYXqPOdnk9af"
      },
      "source": [
        "## Prerequisites\n",
        "\n",
        "* Basics of machine learning \n",
        "* Basics of ANN (Artificial Neural Networks): you must be familiar with notions such as MLP, Relu, Cross entropy, sofmax, dropout. \n",
        "\n",
        "We provide quick refresher below. \n",
        "\n",
        "---\n",
        "\n",
        "### Artificial Neuron\n",
        "\n",
        "Artificial neurons are the basic computational units of ANNs.\n",
        "It can generally be viewed as a simple non linear function that will process input values to produce a single output - Note that the term input value do not necessarily refers to the values of the input the predictor must process. Those input values are just numerical values and may be produced by other artificial neurons. Indedd, Artificial neurons are then structured into layers that will form ANN. \n",
        "\n",
        "In its simple form, an artificial neuron is nothing but an affine function composed with a non linear activation function.  \n",
        "\n",
        "For a given artificial neuron $k$, let there be $m$ input values $x_1$ through $x_m$ and weights $w_{k1}$ through $w_{km}$. We also usually consider an additional input $x_0=1$ to model a bias input with $w_{k0} = b_k$. \n",
        "\n",
        "The output of the $k$-th neuron is: \n",
        "\n",
        "$y_k = \\phi(\\sum_{j=0}^{m} w_{kj} x_j)$\n",
        "\n",
        "$\\phi$ is a defined activation function such as ReLU (see below). \n",
        "\n",
        "---\n",
        "\n",
        "### Rectified Linear Unit (ReLU)\n",
        "\n",
        "ReLU is a popular [activation function](https://en.wikipedia.org/wiki/Activation_function) that can be used while defining an artificial neuron. \n",
        "\n",
        "$\\phi(x) = max(0,x)$\n",
        "\n",
        "![picture](https://upload.wikimedia.org/wikipedia/commons/thumb/6/6c/Rectifier_and_softplus_functions.svg/500px-Rectifier_and_softplus_functions.svg.png)\n",
        "\n",
        "Using ReLU activation function, the neuron defined above would therefore output: \n",
        "\n",
        "$y_k = max(0, \\sum_{j=0}^{m} w_{kj} x_j)$\n",
        "\n",
        "---\n",
        "\n",
        "### Multi Layer Perceptron (MLP) \n",
        "\n",
        "An MLP is a simple ANN corresponding to one or several layers of neurons.\n",
        "\n",
        "Each neuron of the first layer processes the values of the input to analyse. Neurons of layer $ 1 < l $ will further consider as inputs the outputs of the neurons of layer $l-1$. \n",
        "\n",
        "By stacking layers in such a way we can transform an input vector $x \\in \\mathbb{R}^m$ into an output vector into $\\mathbb{R}^d$. Such an output vector may directly answers the requirement for a regression task, or be used as input of a softmax function to obtain a probability distribution suitable for a classification task, cf. softmax function below.    \n",
        "\n",
        "In MLP, computations that will produce the prediction are made from the input values to the output values without reccurrent connexion between neurons. We say that MLP are feedforward ANN, in opposition for instance to Recurrent ANN (RNN). \n",
        "\n",
        "\n",
        "*Note*: do not be disturbed by the term Perceptron. It refers to a famous old ML algorithm. In the context of ANN, the term perceptron refers to a specific type of artificial neuron based on a specific activation function (heaviside step function). Such artificial neurons are not used anymore in recent ML models, and people use the term MLP to refer to ANN that are composed of layers of any types of artificial neurons. \n",
        "\n",
        "\n",
        "Play with a neural network architecture: https://playground.tensorflow.org/: \n",
        "\n",
        "---\n",
        "\n",
        "### Softmax function \n",
        "\n",
        "The softmax function can be used to transform a vector of real-values $ \\mathbf{z} \\in \\mathbb{R}^{|\\mathcal{C}|}$ into a vector $\\mathbf{z'} \\in [0,1]^{|\\mathcal{C}|}$ such as $\\sum_i^{|\\mathcal{C}|} \\mathbf{z'}_i = 1$, with $\\mathbf{z'}_i = \\text{softmax}(\\mathbf{z})_i$:\n",
        "\n",
        "$\\text{softmax}(\\mathbf{z})_i = \\frac{e^{z_i}}{\\sum_{j=1}^{|\\mathcal{C}|} e^{z_j}} \\text{ for } i = 1, \\dotsc , |\\mathcal{C}| \\text{ and } \\mathbf z=(z_1,\\dotsc,z_{|\\mathcal{C}|}) \\in \\mathbb{R}^{|\\mathcal{C}|}$\n",
        "\n",
        "The softmax function is often used as the last treatment of a neural network to normalize the output of a network and to obtain a probability distribution over output classes to consider. \n",
        "\n",
        "Considering a muticlass prediction setting with a set of classes $\\mathcal{C}$, the modelling is generally the following:  \n",
        "* A network predict a vector $\\mathbf{z} \\in \\mathbb{R}^{|\\mathcal{C}|}$\n",
        "* $\\mathbf{z}$ is converted using the softmax into a probability distribution $\\mathbf{z'} \\in [0,1]^{|\\mathcal{C}|}$ with $\\sum_i^{|\\mathcal{C}|} \\mathbf{z'}_i = 1$. \n",
        "* The final prediction is then based on a decision rule exploiting $\\mathbf{z'}$, e.g in a single label setting the prediction will be defined as $\\hat{y} := \\text{argmax}_{i \\in 1,\\ldots,|\\mathcal{C}|} \\mathbf{z'}_i$\n",
        "\n",
        "\n",
        "\n",
        "In practice, the softmax can be seen as a soft [argmax](https://en.wikipedia.org/wiki/Arg_max) (differentiable argmax).\n",
        "\n",
        "---\n",
        "\n",
        "### Cross entropy\n",
        "\n",
        "The cross entropy is often used as loss training a ANN for classification.\n",
        "\n",
        "First recall the log loss considered to evaluate a probabilistic binary classifier. \n",
        "\n",
        "For a given input observation we expect a prediction $y \\in \\{0,1\\}$ (label is true or false). \n",
        "The classifier will compute the probability $p \\in [0,1]$ that the input is labelled by the true label: $p = \\hat{\\mathbb{P}}[y=1]$.\n",
        "\n",
        "The loss for this entry can be defined by: \n",
        "\n",
        "$l(p,y) = −(y log(𝑝)+(1−𝑦)log(1−𝑝))$\n",
        "\n",
        "In a *similar fashion*, the cross entropy can be used to consider multiclass settings. It can be used to compare two probability distributions $p$ and $q$ over the same underlying set of events [(source)](https://en.wikipedia.org/wiki/Cross_entropy). Considering two discrete probability distributions $p$ and $q$ over a support $\\mathcal{X}$ the cross entropy $H(p,q) \\in [0,+\\infty]$ is defined by:\n",
        "\n",
        "$H(p,q)=-\\sum _{x\\in {\\mathcal {X}}}p(x)\\,\\log q(x)$. \n",
        "\n",
        "With $\\mathbf{y} \\in [0,1]^{|\\mathcal{C}|}$ the expected distribution and $\\hat{\\mathbf{y}} \\in [0,1]^{|\\mathcal{C}|}$ the predicted one.\n",
        "\n",
        "\n",
        "$H(\\mathbf{y},\\hat{\\mathbf{y}}) = -\\sum _{i\\in {1,\\ldots,|\\mathcal{C}|}} \\mathbf{y}_i\\,\\log \\hat{\\mathbf{y}}_i$.\n",
        "\n",
        "---\n",
        "\n",
        "### Dropout\n",
        "\n",
        "Dropout is a regularization technique for reducing overfitting in ANN by preventing complex co-adaptations on training data (specific case of different regularization strategies, [source](https://en.wikipedia.org/wiki/Dilution_(neural_networks))). It aims at randomly \"dropping out\", or omitting, units (both hidden and visible) during the training process of a neural network to avoid overfitting on training data.\n",
        "\n",
        "---"
      ]
    },
    {
      "cell_type": "markdown",
      "metadata": {
        "id": "SjWiKKEwk5t4"
      },
      "source": [
        "# Keras in Action\n",
        "\n",
        "\n",
        "We will now present some examples and discuss interesting aspects of the API.\n",
        "\n",
        "You'll then be asked to refer to more advanced examples presented in the official documentation : https://www.tensorflow.org/tutorials\n",
        "\n",
        "The version of Tensorflow used in this tutorial is:"
      ]
    },
    {
      "cell_type": "code",
      "metadata": {
        "colab": {
          "base_uri": "https://localhost:8080/",
          "height": 35
        },
        "id": "AKixYBPtiUqZ",
        "outputId": "7b18b246-5e4b-4e3b-8e59-c578d60e892a"
      },
      "source": [
        "import tensorflow as tf\n",
        "tf.__version__"
      ],
      "execution_count": null,
      "outputs": [
        {
          "data": {
            "application/vnd.google.colaboratory.intrinsic+json": {
              "type": "string"
            },
            "text/plain": [
              "'2.6.0'"
            ]
          },
          "execution_count": 10,
          "metadata": {},
          "output_type": "execute_result"
        }
      ]
    },
    {
      "cell_type": "markdown",
      "metadata": {
        "id": "qXKrctXT0KSi"
      },
      "source": [
        "### Handwritten digit classification\n",
        "\n",
        "Let's consider a first example in which we want to classify images using MNIST dataset.\n",
        "\n",
        "MNIST is a dataset of thousands 28x28 grayscale images representing handwritten digits of the 10 digits. Several examples of images are shown below. \n",
        "\n",
        "https://keras.io/api/datasets/mnist/\n",
        "\n",
        "![picture](https://upload.wikimedia.org/wikipedia/commons/2/27/MnistExamples.png)\n",
        "\n",
        "Providing a grayscale 28x28 image representing an handwritten digit we are interested by predicting the written number. \n",
        "\n",
        "Keep in mind that we are looking for a predictor:\n",
        "\n",
        "$\\hat{f} : [0,255]^{28 \\times 28} \\rightarrow \\mathcal{C} = \\{0,\\ldots, 9\\} \\subset \\mathbb{N}_0$\n",
        "\n",
        "Instead of directly predicting the output class of an input image, we will predict the probability that an input refers to a class. The output of the model will therefore be a probability distribution over $\\mathcal{C}$. \n",
        "\n",
        "Using such a modelling, the cross entropy loss will be used to train our model.\n",
        "\n",
        "We therefore consider :\n",
        "\n",
        "$\\hat{f} : [0,255]^{28 \\times 28} \\rightarrow [0,1]^{|\\mathcal{C}|}$ with for $\\forall x \\in [0,255]^{28 \\times 28}$, $\\hat{f}(x)$ a valid probability distribution.\n",
        "\n",
        "**Code analysis**\n",
        "\n",
        "Keras is an intuitive API.\n",
        "\n",
        "Are you able to understand the source code below?\n",
        "\n",
        "Run it to ensure your installation is working. \n",
        "\n"
      ]
    },
    {
      "cell_type": "code",
      "metadata": {
        "colab": {
          "base_uri": "https://localhost:8080/"
        },
        "id": "a-beRhuV3lAw",
        "outputId": "49395717-3c91-4026-9e0c-f048c262379d"
      },
      "source": [
        "from tensorflow.keras.datasets import mnist\n",
        "from tensorflow.keras.models import Sequential\n",
        "from tensorflow.keras.layers import Flatten, Dense, Dropout\n",
        "\n",
        "(x_train, y_train), (x_test, y_test) = mnist.load_data()\n",
        "\n",
        "print(f\"size training set {len(x_train)}\")\n",
        "print(f\"size test set {len(x_test)}\")\n",
        "print(f\"dimension {len(x_train[0])} x {len(x_train[0][0])}\")\n",
        "\n",
        "x_train, x_test = x_train / 255.0, x_test / 255.0 # normalizing dataset\n",
        "\n",
        "\n",
        "mnist_model = Sequential([\n",
        "  Flatten(input_shape=(28, 28)),\n",
        "  Dense(128, activation='relu'),\n",
        "  Dense(10, activation='softmax')\n",
        "])\n",
        "\n",
        "mnist_model.summary()\n",
        "\n",
        "mnist_model.compile(optimizer='adam',\n",
        "              loss='sparse_categorical_crossentropy',\n",
        "              metrics=['accuracy'])\n",
        "\n",
        "mnist_model.fit(x_train, y_train, epochs=5)\n",
        "\n",
        "print(\"\\nEvaluation\")\n",
        "mnist_model.evaluate(x_test, y_test)"
      ],
      "execution_count": null,
      "outputs": [
        {
          "output_type": "stream",
          "name": "stdout",
          "text": [
            "Downloading data from https://storage.googleapis.com/tensorflow/tf-keras-datasets/mnist.npz\n",
            "11493376/11490434 [==============================] - 0s 0us/step\n",
            "11501568/11490434 [==============================] - 0s 0us/step\n",
            "size training set 60000\n",
            "size test set 10000\n",
            "dimension 28 x 28\n",
            "Model: \"sequential\"\n",
            "_________________________________________________________________\n",
            "Layer (type)                 Output Shape              Param #   \n",
            "=================================================================\n",
            "flatten (Flatten)            (None, 784)               0         \n",
            "_________________________________________________________________\n",
            "dense (Dense)                (None, 128)               100480    \n",
            "_________________________________________________________________\n",
            "dense_1 (Dense)              (None, 10)                1290      \n",
            "=================================================================\n",
            "Total params: 101,770\n",
            "Trainable params: 101,770\n",
            "Non-trainable params: 0\n",
            "_________________________________________________________________\n",
            "Epoch 1/5\n",
            "1875/1875 [==============================] - 5s 2ms/step - loss: 0.2630 - accuracy: 0.9242\n",
            "Epoch 2/5\n",
            "1875/1875 [==============================] - 4s 2ms/step - loss: 0.1148 - accuracy: 0.9660\n",
            "Epoch 3/5\n",
            "1875/1875 [==============================] - 4s 2ms/step - loss: 0.0802 - accuracy: 0.9758\n",
            "Epoch 4/5\n",
            "1875/1875 [==============================] - 4s 2ms/step - loss: 0.0601 - accuracy: 0.9814\n",
            "Epoch 5/5\n",
            "1875/1875 [==============================] - 4s 2ms/step - loss: 0.0469 - accuracy: 0.9861\n",
            "\n",
            "Evaluation\n",
            "313/313 [==============================] - 1s 1ms/step - loss: 0.0776 - accuracy: 0.9763\n"
          ]
        },
        {
          "output_type": "execute_result",
          "data": {
            "text/plain": [
              "[0.07762255519628525, 0.9763000011444092]"
            ]
          },
          "metadata": {},
          "execution_count": 2
        }
      ]
    },
    {
      "cell_type": "markdown",
      "metadata": {
        "id": "93vSStK04FYF"
      },
      "source": [
        "<font color='red'>Explained version below : try to understand it by yourself first!</font>"
      ]
    },
    {
      "cell_type": "code",
      "metadata": {
        "colab": {
          "base_uri": "https://localhost:8080/",
          "height": 782
        },
        "id": "3u7KVkf74GD_",
        "outputId": "c14f87a4-6505-411e-e2a0-a623b6084d29"
      },
      "source": [
        "# Explained version\n",
        "# tensorflow.keras.datasets contains several datasets see https://keras.io/api/datasets/\n",
        "from tensorflow.keras.datasets import mnist \n",
        "# Sequential enables plain stack of layers where each layer has exactly one input tensor and one output tensor\n",
        "from tensorflow.keras.models import Sequential \n",
        "# the layers we will use \n",
        "from tensorflow.keras.layers import Flatten, Dense, Dropout \n",
        "\n",
        "# Load the dataset retrieving the train and test splits \n",
        "# The dataset will be automatically downloaded from a remote server\n",
        "# In this specific case we are using MNIST\n",
        "# Grayscale 28 x 28 images in a multiclass setting\n",
        "# the dataset already contains train and test splits\n",
        "(x_train, y_train), (x_test, y_test) = mnist.load_data()\n",
        "\n",
        "print(f\"size training set {len(x_train)}\")\n",
        "print(f\"size test set {len(x_test)}\")\n",
        "print(f\"dimension {len(x_train[0])} x {len(x_train[0][0])}\")\n",
        "print(y_train[0])\n",
        "\n",
        "x_train, x_test = x_train / 255.0, x_test / 255.0 # normalize grayscale image (max = 255)\n",
        "\n",
        "# We now create our model considering a feedforward network (MLP) consisting of a stacking of layers. \n",
        "# Note that the shape of the input is 28 x 28\n",
        "# The layers will be processed sequentially, using Sequential we pass the layers as parameters \n",
        "# 4 layers are defined :\n",
        "# [1] Flatten, We flatten the 28 x 28 input matrix such as we obtain a vector representation into R^(784=28 x 28).\n",
        "#     The shape of the input is defined for the first layer (dimension of outputs, and internal layer inputs will be infered). \n",
        "# [2] Dense is a fully connected layer parametrized to be composed of 128 neurons each of them considering the ReLU activation function\n",
        "# [3] We apply a dropout between the two last layers (cf. dense layers, layers 2 and 4 ), this is also expressed as a layer.\n",
        "# [4] Last dense layer aims at producing the probability distribution. \n",
        "#     Technically we apply a linear reduction from R^128 to R^10 to which we apply softmax\n",
        "#     to obtain our valid probability distribution\n",
        "mnist_model = Sequential([\n",
        "  Flatten(input_shape=(28, 28)),\n",
        "  Dense(128, activation='relu'),\n",
        "  Dropout(0.2),\n",
        "  Dense(10, activation='softmax')\n",
        "])\n",
        "\n",
        "# The way to process an input is then defined. \n",
        "# Lets look at what looks our network\n",
        "\n",
        "mnist_model.summary()\n",
        "\n",
        "# Model: \"sequential_1\"\n",
        "# _________________________________________________________________\n",
        "# Layer (type)                 Output Shape              Param #   \n",
        "# =================================================================\n",
        "# flatten_1 (Flatten)          (None, 784)               0         \n",
        "# _________________________________________________________________\n",
        "# dense_2 (Dense)              (None, 128)               100480 = 784 x 128 + 128 (biais) \n",
        "# _________________________________________________________________\n",
        "# dropout_1 (Dropout)          (None, 128)               0         \n",
        "# _________________________________________________________________\n",
        "# dense_3 (Dense)              (None, 10)                1290  = 128 x 10 + 10 (biais)     \n",
        "# =================================================================\n",
        "# Total params: 101,770\n",
        "# Trainable params: 101,770\n",
        "# Non-trainable params: 0\n",
        "\n",
        "\n",
        "# We now have to define how to train our model\n",
        "# We will train our model with regard to the cross entropy\n",
        "# using the adam optimizer (that will use the gradient to optimize the parameters)\n",
        "# We also specify some metrics to compute (additionally to the loss)\n",
        "mnist_model.compile(optimizer='adam',\n",
        "              loss='sparse_categorical_crossentropy',\n",
        "              metrics=['accuracy'])\n",
        "\n",
        "# Training will be performed using backpropagation \n",
        "# taking advantage of the gradient computed\n",
        "# from the partial derivative of the error (cross entropy) with regard to the 101,770 parameters\n",
        "# The training set will be used 5 times (5 epochs will be performed)\n",
        "mnist_model.fit(x_train, y_train, epochs=5)\n",
        "\n",
        "print(\"\\nEvaluation\")\n",
        "mnist_model.evaluate(x_test, y_test)"
      ],
      "execution_count": null,
      "outputs": [
        {
          "name": "stdout",
          "output_type": "stream",
          "text": [
            "size training set 60000\n",
            "size test set 10000\n",
            "dimension 28 x 28\n",
            "5\n",
            "Model: \"sequential_2\"\n",
            "_________________________________________________________________\n",
            "Layer (type)                 Output Shape              Param #   \n",
            "=================================================================\n",
            "flatten_2 (Flatten)          (None, 784)               0         \n",
            "_________________________________________________________________\n",
            "dense_4 (Dense)              (None, 128)               100480    \n",
            "_________________________________________________________________\n",
            "dropout_2 (Dropout)          (None, 128)               0         \n",
            "_________________________________________________________________\n",
            "dense_5 (Dense)              (None, 10)                1290      \n",
            "=================================================================\n",
            "Total params: 101,770\n",
            "Trainable params: 101,770\n",
            "Non-trainable params: 0\n",
            "_________________________________________________________________\n",
            "Epoch 1/5\n",
            "1875/1875 [==============================] - 4s 2ms/step - loss: 0.3006 - accuracy: 0.9129\n",
            "Epoch 2/5\n",
            " 367/1875 [====>.........................] - ETA: 3s - loss: 0.1672 - accuracy: 0.9505"
          ]
        },
        {
          "ename": "KeyboardInterrupt",
          "evalue": "ignored",
          "output_type": "error",
          "traceback": [
            "\u001b[0;31m---------------------------------------------------------------------------\u001b[0m",
            "\u001b[0;31mKeyboardInterrupt\u001b[0m                         Traceback (most recent call last)",
            "\u001b[0;32m<ipython-input-5-c50d7cfa7215>\u001b[0m in \u001b[0;36m<module>\u001b[0;34m()\u001b[0m\n\u001b[1;32m     73\u001b[0m \u001b[0;31m# from the partial derivative of the error (cross entropy) with regard to the 101,770 parameters\u001b[0m\u001b[0;34m\u001b[0m\u001b[0;34m\u001b[0m\u001b[0;34m\u001b[0m\u001b[0m\n\u001b[1;32m     74\u001b[0m \u001b[0;31m# The training set will be used 5 times (5 epochs will be performed)\u001b[0m\u001b[0;34m\u001b[0m\u001b[0;34m\u001b[0m\u001b[0;34m\u001b[0m\u001b[0m\n\u001b[0;32m---> 75\u001b[0;31m \u001b[0mmnist_model\u001b[0m\u001b[0;34m.\u001b[0m\u001b[0mfit\u001b[0m\u001b[0;34m(\u001b[0m\u001b[0mx_train\u001b[0m\u001b[0;34m,\u001b[0m \u001b[0my_train\u001b[0m\u001b[0;34m,\u001b[0m \u001b[0mepochs\u001b[0m\u001b[0;34m=\u001b[0m\u001b[0;36m5\u001b[0m\u001b[0;34m)\u001b[0m\u001b[0;34m\u001b[0m\u001b[0;34m\u001b[0m\u001b[0m\n\u001b[0m\u001b[1;32m     76\u001b[0m \u001b[0;34m\u001b[0m\u001b[0m\n\u001b[1;32m     77\u001b[0m \u001b[0mprint\u001b[0m\u001b[0;34m(\u001b[0m\u001b[0;34m\"\\nEvaluation\"\u001b[0m\u001b[0;34m)\u001b[0m\u001b[0;34m\u001b[0m\u001b[0;34m\u001b[0m\u001b[0m\n",
            "\u001b[0;32m/usr/local/lib/python3.7/dist-packages/keras/engine/training.py\u001b[0m in \u001b[0;36mfit\u001b[0;34m(self, x, y, batch_size, epochs, verbose, callbacks, validation_split, validation_data, shuffle, class_weight, sample_weight, initial_epoch, steps_per_epoch, validation_steps, validation_batch_size, validation_freq, max_queue_size, workers, use_multiprocessing)\u001b[0m\n\u001b[1;32m   1182\u001b[0m                 _r=1):\n\u001b[1;32m   1183\u001b[0m               \u001b[0mcallbacks\u001b[0m\u001b[0;34m.\u001b[0m\u001b[0mon_train_batch_begin\u001b[0m\u001b[0;34m(\u001b[0m\u001b[0mstep\u001b[0m\u001b[0;34m)\u001b[0m\u001b[0;34m\u001b[0m\u001b[0;34m\u001b[0m\u001b[0m\n\u001b[0;32m-> 1184\u001b[0;31m               \u001b[0mtmp_logs\u001b[0m \u001b[0;34m=\u001b[0m \u001b[0mself\u001b[0m\u001b[0;34m.\u001b[0m\u001b[0mtrain_function\u001b[0m\u001b[0;34m(\u001b[0m\u001b[0miterator\u001b[0m\u001b[0;34m)\u001b[0m\u001b[0;34m\u001b[0m\u001b[0;34m\u001b[0m\u001b[0m\n\u001b[0m\u001b[1;32m   1185\u001b[0m               \u001b[0;32mif\u001b[0m \u001b[0mdata_handler\u001b[0m\u001b[0;34m.\u001b[0m\u001b[0mshould_sync\u001b[0m\u001b[0;34m:\u001b[0m\u001b[0;34m\u001b[0m\u001b[0;34m\u001b[0m\u001b[0m\n\u001b[1;32m   1186\u001b[0m                 \u001b[0mcontext\u001b[0m\u001b[0;34m.\u001b[0m\u001b[0masync_wait\u001b[0m\u001b[0;34m(\u001b[0m\u001b[0;34m)\u001b[0m\u001b[0;34m\u001b[0m\u001b[0;34m\u001b[0m\u001b[0m\n",
            "\u001b[0;32m/usr/local/lib/python3.7/dist-packages/tensorflow/python/eager/def_function.py\u001b[0m in \u001b[0;36m__call__\u001b[0;34m(self, *args, **kwds)\u001b[0m\n\u001b[1;32m    883\u001b[0m \u001b[0;34m\u001b[0m\u001b[0m\n\u001b[1;32m    884\u001b[0m       \u001b[0;32mwith\u001b[0m \u001b[0mOptionalXlaContext\u001b[0m\u001b[0;34m(\u001b[0m\u001b[0mself\u001b[0m\u001b[0;34m.\u001b[0m\u001b[0m_jit_compile\u001b[0m\u001b[0;34m)\u001b[0m\u001b[0;34m:\u001b[0m\u001b[0;34m\u001b[0m\u001b[0;34m\u001b[0m\u001b[0m\n\u001b[0;32m--> 885\u001b[0;31m         \u001b[0mresult\u001b[0m \u001b[0;34m=\u001b[0m \u001b[0mself\u001b[0m\u001b[0;34m.\u001b[0m\u001b[0m_call\u001b[0m\u001b[0;34m(\u001b[0m\u001b[0;34m*\u001b[0m\u001b[0margs\u001b[0m\u001b[0;34m,\u001b[0m \u001b[0;34m**\u001b[0m\u001b[0mkwds\u001b[0m\u001b[0;34m)\u001b[0m\u001b[0;34m\u001b[0m\u001b[0;34m\u001b[0m\u001b[0m\n\u001b[0m\u001b[1;32m    886\u001b[0m \u001b[0;34m\u001b[0m\u001b[0m\n\u001b[1;32m    887\u001b[0m       \u001b[0mnew_tracing_count\u001b[0m \u001b[0;34m=\u001b[0m \u001b[0mself\u001b[0m\u001b[0;34m.\u001b[0m\u001b[0mexperimental_get_tracing_count\u001b[0m\u001b[0;34m(\u001b[0m\u001b[0;34m)\u001b[0m\u001b[0;34m\u001b[0m\u001b[0;34m\u001b[0m\u001b[0m\n",
            "\u001b[0;32m/usr/local/lib/python3.7/dist-packages/tensorflow/python/eager/def_function.py\u001b[0m in \u001b[0;36m_call\u001b[0;34m(self, *args, **kwds)\u001b[0m\n\u001b[1;32m    915\u001b[0m       \u001b[0;31m# In this case we have created variables on the first call, so we run the\u001b[0m\u001b[0;34m\u001b[0m\u001b[0;34m\u001b[0m\u001b[0;34m\u001b[0m\u001b[0m\n\u001b[1;32m    916\u001b[0m       \u001b[0;31m# defunned version which is guaranteed to never create variables.\u001b[0m\u001b[0;34m\u001b[0m\u001b[0;34m\u001b[0m\u001b[0;34m\u001b[0m\u001b[0m\n\u001b[0;32m--> 917\u001b[0;31m       \u001b[0;32mreturn\u001b[0m \u001b[0mself\u001b[0m\u001b[0;34m.\u001b[0m\u001b[0m_stateless_fn\u001b[0m\u001b[0;34m(\u001b[0m\u001b[0;34m*\u001b[0m\u001b[0margs\u001b[0m\u001b[0;34m,\u001b[0m \u001b[0;34m**\u001b[0m\u001b[0mkwds\u001b[0m\u001b[0;34m)\u001b[0m  \u001b[0;31m# pylint: disable=not-callable\u001b[0m\u001b[0;34m\u001b[0m\u001b[0;34m\u001b[0m\u001b[0m\n\u001b[0m\u001b[1;32m    918\u001b[0m     \u001b[0;32melif\u001b[0m \u001b[0mself\u001b[0m\u001b[0;34m.\u001b[0m\u001b[0m_stateful_fn\u001b[0m \u001b[0;32mis\u001b[0m \u001b[0;32mnot\u001b[0m \u001b[0;32mNone\u001b[0m\u001b[0;34m:\u001b[0m\u001b[0;34m\u001b[0m\u001b[0;34m\u001b[0m\u001b[0m\n\u001b[1;32m    919\u001b[0m       \u001b[0;31m# Release the lock early so that multiple threads can perform the call\u001b[0m\u001b[0;34m\u001b[0m\u001b[0;34m\u001b[0m\u001b[0;34m\u001b[0m\u001b[0m\n",
            "\u001b[0;32m/usr/local/lib/python3.7/dist-packages/tensorflow/python/eager/function.py\u001b[0m in \u001b[0;36m__call__\u001b[0;34m(self, *args, **kwargs)\u001b[0m\n\u001b[1;32m   3038\u001b[0m        filtered_flat_args) = self._maybe_define_function(args, kwargs)\n\u001b[1;32m   3039\u001b[0m     return graph_function._call_flat(\n\u001b[0;32m-> 3040\u001b[0;31m         filtered_flat_args, captured_inputs=graph_function.captured_inputs)  # pylint: disable=protected-access\n\u001b[0m\u001b[1;32m   3041\u001b[0m \u001b[0;34m\u001b[0m\u001b[0m\n\u001b[1;32m   3042\u001b[0m   \u001b[0;34m@\u001b[0m\u001b[0mproperty\u001b[0m\u001b[0;34m\u001b[0m\u001b[0;34m\u001b[0m\u001b[0m\n",
            "\u001b[0;32m/usr/local/lib/python3.7/dist-packages/tensorflow/python/eager/function.py\u001b[0m in \u001b[0;36m_call_flat\u001b[0;34m(self, args, captured_inputs, cancellation_manager)\u001b[0m\n\u001b[1;32m   1962\u001b[0m       \u001b[0;31m# No tape is watching; skip to running the function.\u001b[0m\u001b[0;34m\u001b[0m\u001b[0;34m\u001b[0m\u001b[0;34m\u001b[0m\u001b[0m\n\u001b[1;32m   1963\u001b[0m       return self._build_call_outputs(self._inference_function.call(\n\u001b[0;32m-> 1964\u001b[0;31m           ctx, args, cancellation_manager=cancellation_manager))\n\u001b[0m\u001b[1;32m   1965\u001b[0m     forward_backward = self._select_forward_and_backward_functions(\n\u001b[1;32m   1966\u001b[0m         \u001b[0margs\u001b[0m\u001b[0;34m,\u001b[0m\u001b[0;34m\u001b[0m\u001b[0;34m\u001b[0m\u001b[0m\n",
            "\u001b[0;32m/usr/local/lib/python3.7/dist-packages/tensorflow/python/eager/function.py\u001b[0m in \u001b[0;36mcall\u001b[0;34m(self, ctx, args, cancellation_manager)\u001b[0m\n\u001b[1;32m    594\u001b[0m               \u001b[0minputs\u001b[0m\u001b[0;34m=\u001b[0m\u001b[0margs\u001b[0m\u001b[0;34m,\u001b[0m\u001b[0;34m\u001b[0m\u001b[0;34m\u001b[0m\u001b[0m\n\u001b[1;32m    595\u001b[0m               \u001b[0mattrs\u001b[0m\u001b[0;34m=\u001b[0m\u001b[0mattrs\u001b[0m\u001b[0;34m,\u001b[0m\u001b[0;34m\u001b[0m\u001b[0;34m\u001b[0m\u001b[0m\n\u001b[0;32m--> 596\u001b[0;31m               ctx=ctx)\n\u001b[0m\u001b[1;32m    597\u001b[0m         \u001b[0;32melse\u001b[0m\u001b[0;34m:\u001b[0m\u001b[0;34m\u001b[0m\u001b[0;34m\u001b[0m\u001b[0m\n\u001b[1;32m    598\u001b[0m           outputs = execute.execute_with_cancellation(\n",
            "\u001b[0;32m/usr/local/lib/python3.7/dist-packages/tensorflow/python/eager/execute.py\u001b[0m in \u001b[0;36mquick_execute\u001b[0;34m(op_name, num_outputs, inputs, attrs, ctx, name)\u001b[0m\n\u001b[1;32m     58\u001b[0m     \u001b[0mctx\u001b[0m\u001b[0;34m.\u001b[0m\u001b[0mensure_initialized\u001b[0m\u001b[0;34m(\u001b[0m\u001b[0;34m)\u001b[0m\u001b[0;34m\u001b[0m\u001b[0;34m\u001b[0m\u001b[0m\n\u001b[1;32m     59\u001b[0m     tensors = pywrap_tfe.TFE_Py_Execute(ctx._handle, device_name, op_name,\n\u001b[0;32m---> 60\u001b[0;31m                                         inputs, attrs, num_outputs)\n\u001b[0m\u001b[1;32m     61\u001b[0m   \u001b[0;32mexcept\u001b[0m \u001b[0mcore\u001b[0m\u001b[0;34m.\u001b[0m\u001b[0m_NotOkStatusException\u001b[0m \u001b[0;32mas\u001b[0m \u001b[0me\u001b[0m\u001b[0;34m:\u001b[0m\u001b[0;34m\u001b[0m\u001b[0;34m\u001b[0m\u001b[0m\n\u001b[1;32m     62\u001b[0m     \u001b[0;32mif\u001b[0m \u001b[0mname\u001b[0m \u001b[0;32mis\u001b[0m \u001b[0;32mnot\u001b[0m \u001b[0;32mNone\u001b[0m\u001b[0;34m:\u001b[0m\u001b[0;34m\u001b[0m\u001b[0;34m\u001b[0m\u001b[0m\n",
            "\u001b[0;31mKeyboardInterrupt\u001b[0m: "
          ]
        }
      ]
    },
    {
      "cell_type": "markdown",
      "metadata": {
        "id": "92JaoKQc6DWp"
      },
      "source": [
        "**Disclaimer** \n",
        "<font color='red'>\n",
        "This example aimed at introducing you to a simple model. This is very far from state-of-the-art models that can are today used to perform image classification. Do not consider to use simple MLP to perform standard image processing (cf. to CNN for instance). Keras advanced tutorial show you how to use state-of-the-art models.\n",
        "</font>"
      ]
    },
    {
      "cell_type": "markdown",
      "metadata": {
        "id": "GUxvnA8I6glN"
      },
      "source": [
        "## Keras Main notions"
      ]
    },
    {
      "cell_type": "markdown",
      "metadata": {
        "id": "M9vfn-uM6nMp"
      },
      "source": [
        "### Datasets\n",
        "\n",
        "Keras contains numerous datasets that can be used to test existing or new models on a variety of data types. \n",
        "\n",
        "More information can be found in https://keras.io/datasets/\n",
        "\n",
        "Examples of datasets:\n",
        "* CIFAR10 small image classification. Dataset of 50,000 32x32 color training images, labeled over 10 categories, and 10,000 test images.\n",
        "* CIFAR100 small image classification. Dataset of 50,000 32x32 color training images, labeled over 100 categories, and 10,000 test images.\n",
        "* IMDB Movie reviews sentiment classification. Dataset of 25,000 movies reviews from IMDB, labeled by sentiment (positive/negative).\n",
        "* Reuters newswire topics classification. Dataset of 11,228 newswires from Reuters, labeled over 46 topics.\n",
        "* MNIST database of handwritten digits (0 to 9). Dataset of 60,000 28x28 grayscale images of the 10 digits, along with a test set of 10,000 images.\n",
        "\n",
        "Datasets can simply be loaded from `tensorflow.keras.datasets`.\n",
        "\n",
        "Those datasets can be very useful for testing existing architectures. \n",
        "\n",
        "**Note**: you can also easily load your dataset from your favorite Numpy structures https://www.tensorflow.org/tutorials/load_data/numpy\n",
        "\n",
        "Considering that your training examples and associated lables are store into Numpy array you can easily do : \n",
        "\n",
        "`train_dataset = tf.data.Dataset.from_tensor_slices((train_examples, train_labels))`\n",
        "\n",
        "Note however that this is not even required for most use cases dealing with small datasets as you can `fit` a model directly from basic data structures (Numpy arrays, lists) : https://www.tensorflow.org/api_docs/python/tf/keras/Model#fit "
      ]
    },
    {
      "cell_type": "markdown",
      "metadata": {
        "id": "QvDdHXcC6oFH"
      },
      "source": [
        "### Models\n",
        "\n",
        "Keras offers various types of models that can be used to define a model defining groups of layers into an object with training and inference features. The various models are defined in `tensorflow.keras.models`. \n",
        "\n",
        "A `Sequential` model can be used to represent a Linear stack of layers. https://keras.io/getting-started/sequential-model-guide/"
      ]
    },
    {
      "cell_type": "markdown",
      "metadata": {
        "id": "7UVNSjk96ryT"
      },
      "source": [
        "### Layers \n",
        "\n",
        "Layers are used to define a process to apply to an input to produce an output. \n",
        "They will be the building block of the neural nets we will define. \n",
        "In Keras, layers will also be used to apply processing treatments that are not directly defining the architecture of the network, e.g. Dropout.\n",
        "\n",
        "Examples of layers: \n",
        "* Dense: densely connected layers, i.e. each input dimension is linked to the neurons. \n",
        "* Flatten: can be used to flatten a tensor into a vector (1D-Tensor)\n",
        "* Dropout: sets some unit values to 0 (regularization)\n",
        "\n",
        "Layers are explained in https://keras.io/api/layers/."
      ]
    },
    {
      "cell_type": "markdown",
      "metadata": {
        "id": "XGHnRKH36-kP"
      },
      "source": [
        "### Model training and evaluation \n",
        "\n",
        "Finally, the model can be trained and evaluated in a scikit-learn fashion.\n",
        "The traditional steps are: \n",
        "1. Compile\n",
        "2. Fit\n",
        "3. Evaluate\n",
        "4. Predict\n",
        "\n",
        "#### Model Compilation\n",
        "\n",
        "A model can next be compiled by specifying: \n",
        "* The optimizer used to train the network\n",
        "* The loss function to minimize\n",
        "* Metrics that have to be evaluated"
      ]
    },
    {
      "cell_type": "code",
      "metadata": {
        "id": "9gguDmq67DS-"
      },
      "source": [
        "mnist_model.compile(optimizer='adam',\n",
        "              loss='sparse_categorical_crossentropy',\n",
        "              metrics=['accuracy'])"
      ],
      "execution_count": null,
      "outputs": []
    },
    {
      "cell_type": "markdown",
      "metadata": {
        "id": "26eVJhA47H5G"
      },
      "source": [
        "`tf.keras.Model.compile` takes three important arguments:\n",
        "* `optimizer`: This object specifies the training procedure. Pass it optimizer instances from the `tf.keras.optimizers` module, such as `tf.keras.optimizers.Adam` or `tf.keras.optimizers.SGD`. If you just want to use the default parameters, you can also specify optimizers via strings, such as 'adam' or 'sgd'.\n",
        "* `loss`: The function to minimize during optimization. Common choices include mean square error (mse), categorical_crossentropy, and binary_crossentropy. Loss functions are specified by name or by passing a callable object from the `tf.keras.losses module`.\n",
        "* `metrics`: Used to monitor training. These are string names or callables from the `tf.keras.metrics` module."
      ]
    },
    {
      "cell_type": "markdown",
      "metadata": {
        "id": "b0jLyCL87J4q"
      },
      "source": [
        "**Model Training**"
      ]
    },
    {
      "cell_type": "code",
      "metadata": {
        "id": "pUqaypWI7Ogq"
      },
      "source": [
        "mnist_model.fit(x_train, y_train, epochs=5)"
      ],
      "execution_count": null,
      "outputs": []
    },
    {
      "cell_type": "markdown",
      "metadata": {
        "id": "MyzkeDC07TlS"
      },
      "source": [
        "From the documentation you can read \n",
        "\n",
        "`tf.keras.Model.fit` takes three important arguments:\n",
        "* `epochs`: Training is structured into epochs. An epoch is one iteration over the entire input data (this is done in smaller batches).\n",
        "* `batch_size`: When passed NumPy data, the model slices the data into smaller batches and iterates over these batches during training. This integer specifies the size of each batch. Be aware that the last batch may be smaller if the total number of samples is not divisible by the batch size.\n",
        "* `validation_data`: When prototyping a model, you want to easily monitor its performance on some validation data. Passing this argument—a tuple of inputs and labels—allows the model to display the loss and metrics in inference mode for the passed data, at the end of each epoch.\n",
        "\n",
        "Below an example using validation data.\n",
        "Note also the interaction with numpy. "
      ]
    },
    {
      "cell_type": "code",
      "metadata": {
        "colab": {
          "base_uri": "https://localhost:8080/"
        },
        "id": "7Lwf6w-p7aFO",
        "outputId": "cdb79c0b-aee2-47df-abb9-3acba3b0cb5b"
      },
      "source": [
        "import numpy as np\n",
        "\n",
        "import tensorflow as tf\n",
        "from tensorflow.keras import layers\n",
        "\n",
        "\n",
        "# parameters\n",
        "size_dataset = 200\n",
        "input_size = 10\n",
        "\n",
        "size_hidden_layer_1 = 64\n",
        "size_hidden_layer_2 = 128\n",
        "\n",
        "# Fixed parameters\n",
        "nb_categories = 3\n",
        "\n",
        "model = tf.keras.Sequential([  \n",
        "  # Adds a densely-connected layer\n",
        "  layers.Dense(size_hidden_layer_1, activation='relu', input_shape=(input_size,)),\n",
        "\n",
        "  # Add another densely-connected layer\n",
        "  layers.Dense(size_hidden_layer_2, activation='relu'),\n",
        "    \n",
        "  # Add a softmax layer with nb_categories output units:\n",
        "  layers.Dense(nb_categories, activation='softmax')\n",
        "])\n",
        "\n",
        "model.compile(optimizer=tf.keras.optimizers.Adam(0.001),\n",
        "              loss='categorical_crossentropy',\n",
        "              metrics=['accuracy'])\n",
        "\n",
        "model.summary()\n",
        "\n",
        "# Data generating functions\n",
        "def label(x): return 0 if x[0] > 20 else 1 if x[0] > x[-1] else 2\n",
        "def get_labeled_data(size):\n",
        "    d, l = [], []\n",
        "    for x in np.random.randint(100,size=(size, input_size)):\n",
        "        l.append(label(x))\n",
        "        d.append(x)\n",
        "    return np.array(d), tf.keras.utils.to_categorical(np.array(l))\n",
        "    \n",
        "data_train, labels_train = get_labeled_data(10000)\n",
        "data_valid, labels_valid = get_labeled_data(1000)\n",
        "data_test, labels_test = get_labeled_data(1000)\n",
        "\n",
        "model.fit(data_train, labels_train, epochs=20, batch_size=32, validation_data=(data_valid, labels_valid))"
      ],
      "execution_count": null,
      "outputs": [
        {
          "name": "stdout",
          "output_type": "stream",
          "text": [
            "Model: \"sequential_3\"\n",
            "_________________________________________________________________\n",
            "Layer (type)                 Output Shape              Param #   \n",
            "=================================================================\n",
            "dense_21 (Dense)             (None, 64)                704       \n",
            "_________________________________________________________________\n",
            "dense_22 (Dense)             (None, 128)               8320      \n",
            "_________________________________________________________________\n",
            "dense_23 (Dense)             (None, 3)                 387       \n",
            "=================================================================\n",
            "Total params: 9,411\n",
            "Trainable params: 9,411\n",
            "Non-trainable params: 0\n",
            "_________________________________________________________________\n",
            "Epoch 1/20\n",
            "313/313 [==============================] - 1s 2ms/step - loss: 0.4010 - accuracy: 0.9174 - val_loss: 0.2270 - val_accuracy: 0.9200\n",
            "Epoch 2/20\n",
            "313/313 [==============================] - 1s 2ms/step - loss: 0.1491 - accuracy: 0.9478 - val_loss: 0.1897 - val_accuracy: 0.9460\n",
            "Epoch 3/20\n",
            "313/313 [==============================] - 1s 2ms/step - loss: 0.1149 - accuracy: 0.9569 - val_loss: 0.1547 - val_accuracy: 0.9490\n",
            "Epoch 4/20\n",
            "313/313 [==============================] - 1s 2ms/step - loss: 0.1077 - accuracy: 0.9611 - val_loss: 0.1306 - val_accuracy: 0.9480\n",
            "Epoch 5/20\n",
            "313/313 [==============================] - 1s 2ms/step - loss: 0.0905 - accuracy: 0.9652 - val_loss: 0.1450 - val_accuracy: 0.9510\n",
            "Epoch 6/20\n",
            "313/313 [==============================] - 1s 2ms/step - loss: 0.0986 - accuracy: 0.9628 - val_loss: 0.1271 - val_accuracy: 0.9490\n",
            "Epoch 7/20\n",
            "313/313 [==============================] - 1s 2ms/step - loss: 0.0814 - accuracy: 0.9698 - val_loss: 0.2281 - val_accuracy: 0.9350\n",
            "Epoch 8/20\n",
            "313/313 [==============================] - 1s 2ms/step - loss: 0.0790 - accuracy: 0.9706 - val_loss: 0.1247 - val_accuracy: 0.9570\n",
            "Epoch 9/20\n",
            "313/313 [==============================] - 1s 2ms/step - loss: 0.0779 - accuracy: 0.9700 - val_loss: 0.0900 - val_accuracy: 0.9600\n",
            "Epoch 10/20\n",
            "313/313 [==============================] - 0s 2ms/step - loss: 0.0727 - accuracy: 0.9723 - val_loss: 0.1207 - val_accuracy: 0.9560\n",
            "Epoch 11/20\n",
            "313/313 [==============================] - 1s 2ms/step - loss: 0.0650 - accuracy: 0.9732 - val_loss: 0.1030 - val_accuracy: 0.9600\n",
            "Epoch 12/20\n",
            "313/313 [==============================] - 1s 2ms/step - loss: 0.0605 - accuracy: 0.9756 - val_loss: 0.0951 - val_accuracy: 0.9590\n",
            "Epoch 13/20\n",
            "313/313 [==============================] - 1s 2ms/step - loss: 0.0651 - accuracy: 0.9736 - val_loss: 0.0879 - val_accuracy: 0.9580\n",
            "Epoch 14/20\n",
            "313/313 [==============================] - 1s 2ms/step - loss: 0.0654 - accuracy: 0.9763 - val_loss: 0.1218 - val_accuracy: 0.9570\n",
            "Epoch 15/20\n",
            "313/313 [==============================] - 1s 2ms/step - loss: 0.0665 - accuracy: 0.9751 - val_loss: 0.0994 - val_accuracy: 0.9640\n",
            "Epoch 16/20\n",
            "313/313 [==============================] - 1s 2ms/step - loss: 0.0472 - accuracy: 0.9819 - val_loss: 0.0824 - val_accuracy: 0.9620\n",
            "Epoch 17/20\n",
            "313/313 [==============================] - 1s 2ms/step - loss: 0.0464 - accuracy: 0.9821 - val_loss: 0.0984 - val_accuracy: 0.9670\n",
            "Epoch 18/20\n",
            "313/313 [==============================] - 0s 2ms/step - loss: 0.0441 - accuracy: 0.9814 - val_loss: 0.0903 - val_accuracy: 0.9640\n",
            "Epoch 19/20\n",
            "313/313 [==============================] - 1s 2ms/step - loss: 0.0464 - accuracy: 0.9814 - val_loss: 0.0923 - val_accuracy: 0.9650\n",
            "Epoch 20/20\n",
            "313/313 [==============================] - 0s 2ms/step - loss: 0.0623 - accuracy: 0.9749 - val_loss: 0.0934 - val_accuracy: 0.9610\n"
          ]
        },
        {
          "data": {
            "text/plain": [
              "<keras.callbacks.History at 0x7fed7f67fc10>"
            ]
          },
          "execution_count": 7,
          "metadata": {},
          "output_type": "execute_result"
        }
      ]
    },
    {
      "cell_type": "markdown",
      "metadata": {
        "id": "tKJbT0z27sEU"
      },
      "source": [
        "The tf.keras.Model.evaluate and tf.keras.Model.predict methods can use NumPy data and a tf.data.Dataset.\n",
        "\n",
        "**Prediction**"
      ]
    },
    {
      "cell_type": "code",
      "metadata": {
        "colab": {
          "base_uri": "https://localhost:8080/"
        },
        "id": "xlPOv8nN76pW",
        "outputId": "1d08fb7b-e182-4d83-d985-9cb351d85739"
      },
      "source": [
        "result = model.predict(data_test, batch_size=32)\n",
        "\n",
        "for i in range(0,10):\n",
        "    print(f\"data {i}: {data_test[i]}\")\n",
        "    print(f\"probabilities {result[i]} expected: {labels_test[i]}\")"
      ],
      "execution_count": null,
      "outputs": [
        {
          "name": "stdout",
          "output_type": "stream",
          "text": [
            "data 0: [ 9 61 77 94 93 75 23 58 27 38]\n",
            "probabilities [2.8970567e-07 5.7150908e-07 9.9999917e-01] expected: [0. 0. 1.]\n",
            "data 1: [63 58 39 10 13 65 71 50 17 63]\n",
            "probabilities [1.0000000e+00 6.2825308e-14 1.7991006e-17] expected: [1. 0. 0.]\n",
            "data 2: [43 82 86 33 54 39 38 72  6 35]\n",
            "probabilities [9.9999893e-01 1.0941762e-06 4.3584276e-08] expected: [1. 0. 0.]\n",
            "data 3: [17 95 51 28 94 66 38 87  4 20]\n",
            "probabilities [0.03390077 0.9315492  0.03454999] expected: [0. 0. 1.]\n",
            "data 4: [42 60 66 60 98 95  7 82 49 75]\n",
            "probabilities [9.9999988e-01 2.1625024e-09 8.8790671e-08] expected: [1. 0. 0.]\n",
            "data 5: [47 33 38 33 69 83 62 77 95 94]\n",
            "probabilities [1.0000000e+00 7.7543542e-14 2.2384858e-11] expected: [1. 0. 0.]\n",
            "data 6: [ 1 81 82 68 19 24 98 39 12 64]\n",
            "probabilities [1.5457119e-10 2.5052466e-10 1.0000000e+00] expected: [0. 0. 1.]\n",
            "data 7: [89 23  4  2 51 10 86  7 73 96]\n",
            "probabilities [1.0000000e+00 2.1315787e-22 1.6678792e-26] expected: [1. 0. 0.]\n",
            "data 8: [56 37 29 25  8 57  0 21  2  7]\n",
            "probabilities [1.0000000e+00 4.2758953e-11 8.1997913e-19] expected: [1. 0. 0.]\n",
            "data 9: [ 3 28 31 66  8 53 67 89 22 96]\n",
            "probabilities [5.8715599e-08 1.6481516e-12 1.0000000e+00] expected: [0. 0. 1.]\n"
          ]
        }
      ]
    },
    {
      "cell_type": "markdown",
      "metadata": {
        "id": "T_6f_QdB8Ssq"
      },
      "source": [
        "**Saving model**\n",
        "\n",
        "The entire model can be saved to a file that contains the weight values, the model's configuration, and even the optimizer's configuration. This allows you to checkpoint a model and resume training later—from the exact same state—without access to the original code.\n",
        "\n",
        "More information about saving and loading a model: https://colab.research.google.com/github/tensorflow/docs/blob/master/site/en/tutorials/keras/save_and_load.ipynb\n",
        "\n",
        "Note that you can save versions of your model while training it (using callbacks that are introduced below)"
      ]
    },
    {
      "cell_type": "code",
      "metadata": {
        "id": "r7CQWcJi8f3L"
      },
      "source": [
        "# Save entire model to a HDF5 file\n",
        "mnist_model.save('./tmp/mnist_model.h5')\n",
        "\n",
        "# Recreate the exact same model, including weights and optimizer.\n",
        "model = tf.keras.models.load_model('./tmp/mnist_model.h5')"
      ],
      "execution_count": null,
      "outputs": []
    },
    {
      "cell_type": "markdown",
      "metadata": {
        "id": "H0Msu4kd8kEH"
      },
      "source": [
        "## Additional info\n",
        "\n",
        "**Callbacks**\n",
        "\n",
        "A callback is an object passed to a model to customize and extend its behavior during training. You can write your own custom callback, or use the built-in `tf.keras.callbacks` that include:\n",
        "* `tf.keras.callbacks.ModelCheckpoint`: Save checkpoints of your model at regular intervals.\n",
        "* `tf.keras.callbacks.LearningRateScheduler`: Dynamically change the learning rate.\n",
        "* `tf.keras.callbacks.EarlyStopping`: Interrupt training when validation performance has stopped improving.\n",
        "* `tf.keras.callbacks.TensorBoard`: Monitor the model's behavior using [TensorBoard](https://www.tensorflow.org/tensorboard), a tool that can be used to ease the development of models .\n",
        "\n",
        "To use a `tf.keras.callbacks.Callback`, pass it to the model's fit method:"
      ]
    },
    {
      "cell_type": "code",
      "metadata": {
        "id": "P11IBFWh8ywY"
      },
      "source": [
        "from datetime import datetime\n",
        "log_dir = \"logs/fit/\" + datetime.now().strftime(\"%Y%m%d-%H%M%S\")\n",
        "\n",
        "callbacks = [\n",
        "  # Interrupt training if `val_loss` stops improving for over 2 epochs\n",
        "  tf.keras.callbacks.EarlyStopping(patience=2, monitor='loss'),\n",
        "  # Write TensorBoard logs to `./logs` directory\n",
        "  tf.keras.callbacks.TensorBoard(log_dir=log_dir)\n",
        "]\n",
        "\n",
        "# Trains for 5 epochs\n",
        "mnist_model.fit(x_train, y_train, batch_size=50, epochs=50, callbacks=callbacks)\n",
        "\n",
        "print(\"\\nEvaluation\")\n",
        "mnist_model.evaluate(x_test, y_test)"
      ],
      "execution_count": null,
      "outputs": []
    },
    {
      "cell_type": "markdown",
      "metadata": {
        "id": "TfkueY8785fB"
      },
      "source": [
        "**Tensorboard**"
      ]
    },
    {
      "cell_type": "code",
      "metadata": {
        "id": "E8h5NVYE89PJ"
      },
      "source": [
        "%load_ext tensorboard\n",
        "%tensorboard --logdir logs"
      ],
      "execution_count": null,
      "outputs": []
    },
    {
      "cell_type": "markdown",
      "metadata": {
        "id": "xepiN-Or9Gpc"
      },
      "source": [
        "**Functional syntax**\n",
        "\n",
        "Note that you can use a functional syntax to express your networks"
      ]
    },
    {
      "cell_type": "code",
      "metadata": {
        "id": "20qNwZXn9M_1"
      },
      "source": [
        "import numpy as np\n",
        "from tensorflow.keras.layers import Input, Dense\n",
        "from tensorflow.keras.models import Model\n",
        "\n",
        "# parameters\n",
        "input_size = 10\n",
        "size_hidden_layer_1 = 64\n",
        "size_hidden_layer_2 = 128\n",
        "\n",
        "# Fixed parameters\n",
        "nb_categories = 3\n",
        "\n",
        "\n",
        "# This returns a tensor\n",
        "inputs = Input(shape=(input_size,))\n",
        "\n",
        "# a layer instance is callable on a tensor, and returns a tensor\n",
        "x = Dense(size_hidden_layer_1, activation='relu')(inputs)\n",
        "x = Dense(size_hidden_layer_2, activation='relu')(x)\n",
        "\n",
        "predictions = Dense(nb_categories, activation='softmax')(x)\n",
        "\n",
        "# This creates a model that includes\n",
        "# the Input layer and three Dense layers\n",
        "model = Model(inputs=inputs, outputs=predictions)\n",
        "model.compile(optimizer='rmsprop',\n",
        "              loss='categorical_crossentropy',\n",
        "              metrics=['accuracy'])\n",
        "\n",
        "model.summary()\n",
        "model.fit(data_train, labels_train, epochs=20, batch_size=32, validation_data=(data_valid, labels_valid))\n",
        "\n",
        "result = model.predict(data_test, batch_size=32)\n",
        "print(\"result[0]\",str(result[0]))"
      ],
      "execution_count": null,
      "outputs": []
    },
    {
      "cell_type": "markdown",
      "metadata": {
        "id": "Op67LhmO9Qsk"
      },
      "source": [
        "You can easily make quick tests using different architectures"
      ]
    },
    {
      "cell_type": "code",
      "metadata": {
        "colab": {
          "background_save": true,
          "base_uri": "https://localhost:8080/"
        },
        "id": "rvb4Ras49Vw9",
        "outputId": "cc9952c1-f108-4e46-9d27-589b23b14dd6"
      },
      "source": [
        "import numpy as np\n",
        "from tensorflow.keras import layers\n",
        "from tensorflow.keras.layers import Input, Dense\n",
        "from tensorflow.keras.models import Model\n",
        "\n",
        "# Data generating functions\n",
        "def label(x): return 0 if x[0] > 20 else 1 if x[0] > x[-1] else 2\n",
        "def get_labeled_data(size, input_size):\n",
        "    d, l = [], []\n",
        "    for x in np.random.randint(100,size=(size, input_size)):\n",
        "        l.append(label(x))\n",
        "        d.append(x)\n",
        "    return np.array(d), tf.keras.utils.to_categorical(np.array(l))\n",
        "\n",
        "def addLayers(src_layer, layers_desc):\n",
        "    x = src_layer\n",
        "    for layer_type, size, activation in layers_desc:\n",
        "        layer_class = getattr(layers, layer_type.capitalize())\n",
        "        x = layer_class(size, activation=activation.lower())(x)\n",
        "    return x\n",
        "\n",
        "# parameters\n",
        "input_size = 10\n",
        "size_hidden_layer_1 = 64\n",
        "size_hidden_layer_2 = 128\n",
        "\n",
        "# Fixed parameters\n",
        "nb_categories = 3\n",
        "\n",
        "# This returns a tensor\n",
        "inputs = Input(shape=(input_size,))\n",
        "\n",
        "layer_descs = [(\"Dense\", 64, \"relu\"),(\"Dense\", 128, \"relu\"),(\"Dense\", nb_categories, \"softmax\")]\n",
        "layer_descs_xxl = [(\"Dense\", 64, \"relu\")] + ([(\"Dense\", 128, \"relu\"),] * 10) + [(\"Dense\", nb_categories, \"softmax\")]\n",
        "\n",
        "print(layer_descs_xxl)\n",
        "\n",
        "predictions = addLayers(inputs, layer_descs)\n",
        "predictions_xxl = addLayers(inputs, layer_descs_xxl)\n",
        "\n",
        "# This creates a model that includes\n",
        "# the Input layer and three Dense layers\n",
        "model = Model(inputs=inputs, outputs=predictions)\n",
        "model.compile(optimizer='rmsprop',\n",
        "              loss='categorical_crossentropy',\n",
        "              metrics=['accuracy'])\n",
        "\n",
        "model_xxl = Model(inputs=inputs, outputs=predictions_xxl)\n",
        "model_xxl.compile(optimizer='rmsprop',\n",
        "              loss='categorical_crossentropy',\n",
        "              metrics=['accuracy'])\n",
        "\n",
        "model_xxl.summary()\n",
        "\n",
        "data_train, labels_train = get_labeled_data(10000,input_size)\n",
        "data_valid, labels_valid = get_labeled_data(1000,input_size)\n",
        "data_test, labels_test = get_labeled_data(1000,input_size)\n",
        "\n",
        "model.fit(data_train, labels_train, epochs=20, batch_size=32, validation_data=(data_valid, labels_valid))\n",
        "model_xxl.fit(data_train, labels_train, epochs=20, batch_size=32, validation_data=(data_valid, labels_valid))\n",
        "\n",
        "print(\"*\" * 50)\n",
        "model.evaluate(data_test, labels_test)\n",
        "model_xxl.evaluate(data_test, labels_test)"
      ],
      "execution_count": null,
      "outputs": [
        {
          "name": "stdout",
          "output_type": "stream",
          "text": [
            "[('Dense', 64, 'relu'), ('Dense', 128, 'relu'), ('Dense', 128, 'relu'), ('Dense', 128, 'relu'), ('Dense', 128, 'relu'), ('Dense', 128, 'relu'), ('Dense', 128, 'relu'), ('Dense', 128, 'relu'), ('Dense', 128, 'relu'), ('Dense', 128, 'relu'), ('Dense', 128, 'relu'), ('Dense', 3, 'softmax')]\n",
            "Model: \"model_3\"\n",
            "_________________________________________________________________\n",
            "Layer (type)                 Output Shape              Param #   \n",
            "=================================================================\n",
            "input_2 (InputLayer)         [(None, 10)]              0         \n",
            "_________________________________________________________________\n",
            "dense_27 (Dense)             (None, 64)                704       \n",
            "_________________________________________________________________\n",
            "dense_28 (Dense)             (None, 128)               8320      \n",
            "_________________________________________________________________\n",
            "dense_29 (Dense)             (None, 128)               16512     \n",
            "_________________________________________________________________\n",
            "dense_30 (Dense)             (None, 128)               16512     \n",
            "_________________________________________________________________\n",
            "dense_31 (Dense)             (None, 128)               16512     \n",
            "_________________________________________________________________\n",
            "dense_32 (Dense)             (None, 128)               16512     \n",
            "_________________________________________________________________\n",
            "dense_33 (Dense)             (None, 128)               16512     \n",
            "_________________________________________________________________\n",
            "dense_34 (Dense)             (None, 128)               16512     \n",
            "_________________________________________________________________\n",
            "dense_35 (Dense)             (None, 128)               16512     \n",
            "_________________________________________________________________\n",
            "dense_36 (Dense)             (None, 128)               16512     \n",
            "_________________________________________________________________\n",
            "dense_37 (Dense)             (None, 128)               16512     \n",
            "_________________________________________________________________\n",
            "dense_38 (Dense)             (None, 3)                 387       \n",
            "=================================================================\n",
            "Total params: 158,019\n",
            "Trainable params: 158,019\n",
            "Non-trainable params: 0\n",
            "_________________________________________________________________\n",
            "Epoch 1/20\n",
            "313/313 [==============================] - 1s 2ms/step - loss: 0.4939 - accuracy: 0.8977 - val_loss: 0.2301 - val_accuracy: 0.9380\n",
            "Epoch 2/20\n",
            "313/313 [==============================] - 45s 145ms/step - loss: 0.2220 - accuracy: 0.9405 - val_loss: 0.1603 - val_accuracy: 0.9450\n",
            "Epoch 3/20\n",
            "313/313 [==============================] - 0s 1ms/step - loss: 0.1661 - accuracy: 0.9506 - val_loss: 0.1761 - val_accuracy: 0.9440\n",
            "Epoch 4/20\n",
            "313/313 [==============================] - 0s 1ms/step - loss: 0.1418 - accuracy: 0.9529 - val_loss: 0.2152 - val_accuracy: 0.9340\n",
            "Epoch 5/20\n",
            "313/313 [==============================] - 0s 1ms/step - loss: 0.1258 - accuracy: 0.9588 - val_loss: 0.1165 - val_accuracy: 0.9550\n",
            "Epoch 6/20\n",
            "313/313 [==============================] - 0s 1ms/step - loss: 0.1114 - accuracy: 0.9613 - val_loss: 0.1587 - val_accuracy: 0.9510\n",
            "Epoch 7/20\n",
            "313/313 [==============================] - 0s 2ms/step - loss: 0.1007 - accuracy: 0.9651 - val_loss: 0.1279 - val_accuracy: 0.9560\n",
            "Epoch 8/20\n",
            "313/313 [==============================] - 0s 2ms/step - loss: 0.0909 - accuracy: 0.9680 - val_loss: 0.1633 - val_accuracy: 0.9460\n",
            "Epoch 9/20\n",
            "313/313 [==============================] - 0s 1ms/step - loss: 0.0823 - accuracy: 0.9692 - val_loss: 0.1503 - val_accuracy: 0.9560\n",
            "Epoch 10/20\n",
            "313/313 [==============================] - 0s 2ms/step - loss: 0.0776 - accuracy: 0.9725 - val_loss: 0.1499 - val_accuracy: 0.9610\n",
            "Epoch 11/20\n",
            "313/313 [==============================] - 0s 2ms/step - loss: 0.0717 - accuracy: 0.9729 - val_loss: 0.1170 - val_accuracy: 0.9580\n",
            "Epoch 12/20\n",
            "313/313 [==============================] - 0s 2ms/step - loss: 0.0716 - accuracy: 0.9717 - val_loss: 0.1392 - val_accuracy: 0.9520\n",
            "Epoch 13/20\n",
            "313/313 [==============================] - 0s 1ms/step - loss: 0.0655 - accuracy: 0.9743 - val_loss: 0.0976 - val_accuracy: 0.9590\n",
            "Epoch 14/20\n",
            "313/313 [==============================] - 0s 2ms/step - loss: 0.0634 - accuracy: 0.9757 - val_loss: 0.1193 - val_accuracy: 0.9540\n",
            "Epoch 15/20\n",
            "313/313 [==============================] - 0s 1ms/step - loss: 0.0583 - accuracy: 0.9778 - val_loss: 0.1256 - val_accuracy: 0.9540\n",
            "Epoch 16/20\n",
            "313/313 [==============================] - 0s 2ms/step - loss: 0.0572 - accuracy: 0.9798 - val_loss: 0.1452 - val_accuracy: 0.9610\n",
            "Epoch 17/20\n",
            "313/313 [==============================] - 0s 1ms/step - loss: 0.0540 - accuracy: 0.9798 - val_loss: 0.1175 - val_accuracy: 0.9640\n",
            "Epoch 18/20\n",
            "313/313 [==============================] - 0s 1ms/step - loss: 0.0524 - accuracy: 0.9799 - val_loss: 0.0982 - val_accuracy: 0.9640\n",
            "Epoch 19/20\n",
            "313/313 [==============================] - 0s 1ms/step - loss: 0.0495 - accuracy: 0.9808 - val_loss: 0.1101 - val_accuracy: 0.9620\n",
            "Epoch 20/20\n",
            "313/313 [==============================] - 0s 1ms/step - loss: 0.0466 - accuracy: 0.9835 - val_loss: 0.1097 - val_accuracy: 0.9660\n",
            "Epoch 1/20\n",
            "313/313 [==============================] - 2s 4ms/step - loss: 0.2283 - accuracy: 0.9136 - val_loss: 0.1394 - val_accuracy: 0.9470\n",
            "Epoch 2/20\n",
            "313/313 [==============================] - 1s 3ms/step - loss: 0.1399 - accuracy: 0.9474 - val_loss: 0.1488 - val_accuracy: 0.9470\n",
            "Epoch 3/20\n",
            "313/313 [==============================] - 1s 3ms/step - loss: 0.1276 - accuracy: 0.9546 - val_loss: 0.1020 - val_accuracy: 0.9610\n",
            "Epoch 4/20\n",
            "313/313 [==============================] - 1s 3ms/step - loss: 0.1203 - accuracy: 0.9562 - val_loss: 0.1216 - val_accuracy: 0.9420\n",
            "Epoch 5/20\n",
            "313/313 [==============================] - 1s 3ms/step - loss: 0.1113 - accuracy: 0.9595 - val_loss: 0.1149 - val_accuracy: 0.9600\n",
            "Epoch 6/20\n",
            "313/313 [==============================] - 1s 3ms/step - loss: 0.1095 - accuracy: 0.9600 - val_loss: 0.1127 - val_accuracy: 0.9520\n",
            "Epoch 7/20\n",
            "313/313 [==============================] - 1s 3ms/step - loss: 0.1070 - accuracy: 0.9625 - val_loss: 0.1395 - val_accuracy: 0.9550\n",
            "Epoch 8/20\n",
            "313/313 [==============================] - 1s 3ms/step - loss: 0.1055 - accuracy: 0.9639 - val_loss: 0.0912 - val_accuracy: 0.9640\n",
            "Epoch 9/20\n",
            "313/313 [==============================] - 1s 3ms/step - loss: 0.0976 - accuracy: 0.9671 - val_loss: 0.2541 - val_accuracy: 0.9560\n",
            "Epoch 10/20\n",
            "313/313 [==============================] - 1s 3ms/step - loss: 0.1124 - accuracy: 0.9655 - val_loss: 0.1150 - val_accuracy: 0.9610\n",
            "Epoch 11/20\n",
            "313/313 [==============================] - 1s 3ms/step - loss: 0.0981 - accuracy: 0.9709 - val_loss: 0.1572 - val_accuracy: 0.9600\n",
            "Epoch 12/20\n",
            "313/313 [==============================] - 1s 3ms/step - loss: 0.0969 - accuracy: 0.9667 - val_loss: 0.2257 - val_accuracy: 0.9500\n",
            "Epoch 13/20\n",
            "313/313 [==============================] - 1s 3ms/step - loss: 0.0903 - accuracy: 0.9714 - val_loss: 0.1307 - val_accuracy: 0.9530\n",
            "Epoch 14/20\n",
            "313/313 [==============================] - 1s 3ms/step - loss: 0.0978 - accuracy: 0.9723 - val_loss: 0.1363 - val_accuracy: 0.9620\n",
            "Epoch 15/20\n",
            "313/313 [==============================] - 1s 3ms/step - loss: 0.0900 - accuracy: 0.9693 - val_loss: 0.2371 - val_accuracy: 0.9310\n",
            "Epoch 16/20\n",
            "313/313 [==============================] - 1s 3ms/step - loss: 0.0957 - accuracy: 0.9711 - val_loss: 0.0828 - val_accuracy: 0.9640\n",
            "Epoch 17/20\n",
            "313/313 [==============================] - 1s 3ms/step - loss: 0.0892 - accuracy: 0.9723 - val_loss: 0.0788 - val_accuracy: 0.9750\n",
            "Epoch 18/20\n",
            "313/313 [==============================] - 1s 3ms/step - loss: 0.0954 - accuracy: 0.9708 - val_loss: 0.2356 - val_accuracy: 0.9540\n",
            "Epoch 19/20\n",
            "313/313 [==============================] - 1s 3ms/step - loss: 0.1511 - accuracy: 0.9733 - val_loss: 0.1272 - val_accuracy: 0.9650\n",
            "Epoch 20/20\n",
            "313/313 [==============================] - 1s 3ms/step - loss: 0.1207 - accuracy: 0.9719 - val_loss: 0.1090 - val_accuracy: 0.9720\n",
            "**************************************************\n",
            "32/32 [==============================] - 0s 1ms/step - loss: 0.0843 - accuracy: 0.9750\n",
            "32/32 [==============================] - 0s 1ms/step - loss: 0.1107 - accuracy: 0.9750\n"
          ]
        },
        {
          "data": {
            "text/plain": [
              "[0.11066389828920364, 0.9750000238418579]"
            ]
          },
          "execution_count": null,
          "metadata": {},
          "output_type": "execute_result"
        }
      ]
    },
    {
      "cell_type": "markdown",
      "metadata": {
        "id": "8IttUfk1aEiX"
      },
      "source": [
        "# Exercice 1\n",
        "\n",
        "* Download the <a href='https://archive.ics.uci.edu/ml/datasets/Breast+Cancer+Wisconsin+%28Diagnostic%29'>Breast cancer dataset</a> (or any dataset corresponding to a supervised machine learning problem in which inputs are vectors of numerical values).\n",
        "* Define a neural network that can be tested on this problem. Implement it using Keras.\n",
        "* Compare several networks architectures (modifying the number of layers and specific parameters such as activation functions...).\n",
        "* Discuss the results.\n",
        "\n"
      ]
    },
    {
      "cell_type": "markdown",
      "metadata": {
        "id": "WAiLSNsx_EN5"
      },
      "source": [
        "# Keras for Text Processing\n",
        "\n",
        "Read https://www.tensorflow.org/tutorials/keras/text_classification and perform the given exercice. \n",
        "\n",
        "Read https://www.tensorflow.org/tutorials/keras/text_classification_with_hub\n",
        "You'll learn about Transfer learning and TF Hub"
      ]
    }
  ]
}